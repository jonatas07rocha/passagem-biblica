{
  "nbformat": 4,
  "nbformat_minor": 0,
  "metadata": {
    "colab": {
      "provenance": [],
      "authorship_tag": "ABX9TyNjf2h7r3cqJViT5wYGOkyQ",
      "include_colab_link": true
    },
    "kernelspec": {
      "name": "python3",
      "display_name": "Python 3"
    },
    "language_info": {
      "name": "python"
    }
  },
  "cells": [
    {
      "cell_type": "markdown",
      "metadata": {
        "id": "view-in-github",
        "colab_type": "text"
      },
      "source": [
        "<a href=\"https://colab.research.google.com/github/jonatas07rocha/passagem-biblica/blob/main/passagem_biblica_final.ipynb\" target=\"_parent\"><img src=\"https://colab.research.google.com/assets/colab-badge.svg\" alt=\"Open In Colab\"/></a>"
      ]
    },
    {
      "cell_type": "code",
      "source": [
        "import requests\n",
        "from bs4 import BeautifulSoup\n",
        "import os\n",
        "from google.colab import userdata\n",
        "import google.generativeai as genai\n",
        "\n",
        "# Configurações da API do Gemini\n",
        "gemini_api_key = userdata.get('GOOGLE_GEMINI_API_KEY')\n",
        "genai.configure(api_key=gemini_api_key)\n",
        "\n",
        "bible_books = {\n",
        "    \"genesis\": \"genesis\", \"gênesis\": \"genesis\",\n",
        "    # ... (restante do dicionário bible_books)\n",
        "}\n",
        "\n",
        "def get_bible_chapter(book, chapter):\n",
        "  \"\"\"\n",
        "  Busca um capítulo da Bíblia A Mensagem.\n",
        "  \"\"\"\n",
        "  normalized_book = bible_books.get(book.lower(), None)\n",
        "  if not normalized_book:\n",
        "    print(f\"Livro não encontrado: {book}\")\n",
        "    return None\n",
        "\n",
        "  url = f\"https://biblia-a-mensagem.com/{normalized_book}/{chapter}\"\n",
        "  response = requests.get(url)\n",
        "  if response.status_code != 200:\n",
        "    print(f\"Erro ao acessar a página: {response.status_code}\")\n",
        "    return None\n",
        "\n",
        "  soup = BeautifulSoup(response.content, 'html.parser')\n",
        "\n",
        "  # Tratar a página inicial do livro\n",
        "  if chapter == \"1\":\n",
        "    chapter_title = soup.find('h2').text.strip()\n",
        "    verses = soup.find_all('p')[1:]  # Ignorar o primeiro parágrafo\n",
        "  else:\n",
        "    chapter_title = soup.find('h3').text.strip()\n",
        "    verses = soup.find_all('p')\n",
        "\n",
        "  formatted_text = f\"## {book.title()}\\n\\n### {chapter_title}\\n\\n\"\n",
        "  for verse in verses:\n",
        "    formatted_text += verse.text.strip() + \"\\n\\n\"\n",
        "\n",
        "  return formatted_text\n",
        "\n",
        "def summarize_chapter(chapter_text):\n",
        "  \"\"\"\n",
        "  Resume o capítulo usando o Google Gemini.\n",
        "  \"\"\"\n",
        "\n",
        "  response = genai.generate_text(\n",
        "      model=\"models/gemini-pro\",  # Correção aqui!\n",
        "      prompt=f\"Por favor, resuma o seguinte capítulo da Bíblia:\\n\\n{chapter_text}\",\n",
        "      temperature=0.7,\n",
        "      max_output_tokens=200,\n",
        "  )\n",
        "\n",
        "  return response.text\n",
        "\n",
        "if __name__ == \"__main__\":\n",
        "  book = input(\"Digite o livro da Bíblia: \")\n",
        "  chapter = input(\"Digite o capítulo: \")\n",
        "\n",
        "  chapter_text = get_bible_chapter(book, chapter)\n",
        "  if chapter_text:\n",
        "    print(chapter_text)\n",
        "\n",
        "    summarize = input(\"Deseja um resumo deste capítulo? (s/n): \")\n",
        "    if summarize.lower() == 's':\n",
        "      summary = summarize_chapter(chapter_text)\n",
        "      if summary:\n",
        "        print(\"\\n## Resumo:\\n\\n\", summary)"
      ],
      "metadata": {
        "id": "YWTaOfDGe01C"
      },
      "execution_count": null,
      "outputs": []
    }
  ]
}